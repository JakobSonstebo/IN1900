{
 "cells": [
  {
   "cell_type": "markdown",
   "metadata": {},
   "source": [
    "Oppgave 2.1"
   ]
  },
  {
   "cell_type": "code",
   "execution_count": 1,
   "metadata": {},
   "outputs": [
    {
     "name": "stdout",
     "output_type": "stream",
     "text": [
      "Fahrenheit, Celsius\n",
      "0 -18\n",
      "10 -12\n",
      "20 -7\n",
      "30 -1\n",
      "40 4\n",
      "50 10\n",
      "60 16\n",
      "70 21\n",
      "80 27\n",
      "90 32\n",
      "100 38\n"
     ]
    }
   ],
   "source": [
    "print(\"Fahrenheit, Celsius\")\n",
    "for i in [n for n in range(0, 110, 10)]:\n",
    "    print(i, round(5./9*(i-32)))"
   ]
  },
  {
   "cell_type": "markdown",
   "metadata": {},
   "source": [
    "Oppgave 2.2"
   ]
  },
  {
   "cell_type": "code",
   "execution_count": 2,
   "metadata": {},
   "outputs": [
    {
     "name": "stdout",
     "output_type": "stream",
     "text": [
      "Fahrenheit, Celsius, Celsius Approx\n",
      "0 -18 -15\n",
      "10 -12 -10\n",
      "20 -7 -5\n",
      "30 -1 0\n",
      "40 4 5\n",
      "50 10 10\n",
      "60 16 15\n",
      "70 21 20\n",
      "80 27 25\n",
      "90 32 30\n",
      "100 38 35\n"
     ]
    }
   ],
   "source": [
    "print(\"Fahrenheit, Celsius, Celsius Approx\")\n",
    "for i in [n for n in range(0, 110, 10)]:\n",
    "    F = i\n",
    "    C = round(5./9*(i-32))\n",
    "    C_ap = round(0.5*(i-30))\n",
    "    print(F, C, C_ap)"
   ]
  },
  {
   "cell_type": "markdown",
   "metadata": {},
   "source": [
    "Oppgave 2.3"
   ]
  },
  {
   "cell_type": "code",
   "execution_count": 3,
   "metadata": {},
   "outputs": [
    {
     "name": "stdout",
     "output_type": "stream",
     "text": [
      "2\n",
      "3\n",
      "5\n",
      "7\n",
      "11\n",
      "13\n",
      "\n",
      "\n",
      "2\n",
      "3\n",
      "5\n",
      "7\n",
      "11\n",
      "13\n",
      "17\n"
     ]
    }
   ],
   "source": [
    "primes = [2, 3, 5, 7, 11, 13]\n",
    "for i in primes:\n",
    "    print(i)\n",
    "\n",
    "print(\"\\n\")    \n",
    "p = 17\n",
    "primes.append(p)\n",
    "\n",
    "for i in primes:\n",
    "    print(i)"
   ]
  },
  {
   "cell_type": "markdown",
   "metadata": {},
   "source": [
    "2.4"
   ]
  },
  {
   "cell_type": "code",
   "execution_count": 4,
   "metadata": {},
   "outputs": [
    {
     "name": "stdout",
     "output_type": "stream",
     "text": [
      "1\n",
      "3\n",
      "5\n",
      "7\n",
      "9\n",
      "11\n"
     ]
    }
   ],
   "source": [
    "n = 12\n",
    "i = 0\n",
    "while i <= n:\n",
    "    if i % 2 == 1:\n",
    "        print(i)\n",
    "    i += 1"
   ]
  },
  {
   "cell_type": "markdown",
   "metadata": {},
   "source": [
    "2.5"
   ]
  },
  {
   "cell_type": "code",
   "execution_count": 5,
   "metadata": {},
   "outputs": [
    {
     "name": "stdout",
     "output_type": "stream",
     "text": [
      "210\n"
     ]
    }
   ],
   "source": [
    "s = 0\n",
    "n = 20\n",
    "for i in range(n+1):\n",
    "    s += i\n",
    "\n",
    "c = n/2*(n+1)\n",
    "\n",
    "if s == c:\n",
    "    print(s)"
   ]
  },
  {
   "cell_type": "markdown",
   "metadata": {},
   "source": [
    "2.6"
   ]
  },
  {
   "cell_type": "code",
   "execution_count": 6,
   "metadata": {},
   "outputs": [
    {
     "name": "stdout",
     "output_type": "stream",
     "text": [
      "First 20 energy levels of electron in hydrogen\n",
      "1 : -2.179978e-18\n",
      "2 : -5.449944e-19\n",
      "3 : -2.422198e-19\n",
      "4 : -1.362486e-19\n",
      "5 : -8.719911e-20\n",
      "6 : -6.055494e-20\n",
      "7 : -4.448934e-20\n",
      "8 : -3.406215e-20\n",
      "9 : -2.691331e-20\n",
      "10 : -2.179978e-20\n",
      "11 : -1.801635e-20\n",
      "12 : -1.513873e-20\n",
      "13 : -1.289928e-20\n",
      "14 : -1.112234e-20\n",
      "15 : -9.688790e-21\n",
      "16 : -8.515538e-21\n",
      "17 : -7.543176e-21\n",
      "18 : -6.728326e-21\n",
      "19 : -6.038720e-21\n",
      "20 : -5.449944e-21\n",
      "\n",
      "\n",
      "Changes in energy when electron goes from level i (columns) to f (rows): \n",
      "-0.000000e+00 -1.634983e-18 -1.937758e-18 -2.043729e-18 -2.092779e-18 \n",
      "\n",
      "1.634983e-18 -0.000000e+00 -3.027747e-19 -4.087458e-19 -4.577953e-19 \n",
      "\n",
      "1.937758e-18 3.027747e-19 -0.000000e+00 -1.059711e-19 -1.550206e-19 \n",
      "\n",
      "2.043729e-18 4.087458e-19 1.059711e-19 -0.000000e+00 -4.904950e-20 \n",
      "\n",
      "2.092779e-18 4.577953e-19 1.550206e-19 4.904950e-20 -0.000000e+00 \n",
      "\n"
     ]
    }
   ],
   "source": [
    "#constants\n",
    "Me = 9.1094*10**-31\n",
    "e = 1.6022*10**-19\n",
    "e0 = 8.8542*10**-12\n",
    "h = 6.6261*10**-34\n",
    "\n",
    "def energy(n):\n",
    "    return -(Me*e**4)/(8*e0**2*h**2)*1/n**2\n",
    "\n",
    "def energy_change(ni, nf):\n",
    "    change = -(Me*e**4)/(8*e0**2*h**2)*(1/ni**2 - 1/nf**2)\n",
    "    return change\n",
    "\n",
    "print(\"First 20 energy levels of electron in hydrogen\")\n",
    "for n in range(1,21):\n",
    "    print('{:} : {:e}'.format(n, energy(n)))\n",
    "    \n",
    "print(\"\\n\")\n",
    "\n",
    "print(\"Changes in energy when electron goes from level i (columns) to f (rows): \")\n",
    "for i in range(1, 6):\n",
    "    for j in range(1, 6):\n",
    "        print('{:e}'.format(energy_change(i, j)), end = ' ')\n",
    "    print(\"\\n\")"
   ]
  },
  {
   "cell_type": "markdown",
   "metadata": {},
   "source": [
    "2.7"
   ]
  },
  {
   "cell_type": "code",
   "execution_count": 7,
   "metadata": {},
   "outputs": [
    {
     "name": "stdout",
     "output_type": "stream",
     "text": [
      "[0.0, 1.0, 2.0, 3.0, 4.0, 5.0, 6.0, 7.0, 8.0, 9.0, 10.0]\n"
     ]
    }
   ],
   "source": [
    "q = []\n",
    "n = 10\n",
    "a = 0\n",
    "b = 10\n",
    "h = (b-a)/n\n",
    "\n",
    "for i in range(n+1):\n",
    "    q.append(a + h*i)\n",
    "\n",
    "print([a+h*i for i in range(n+1)])"
   ]
  },
  {
   "cell_type": "markdown",
   "metadata": {},
   "source": [
    "2.8"
   ]
  },
  {
   "cell_type": "code",
   "execution_count": 8,
   "metadata": {},
   "outputs": [
    {
     "name": "stdout",
     "output_type": "stream",
     "text": [
      "t: 0.000000, y : 0.000000\n",
      "t: 0.101937, y : 0.968400\n",
      "t: 0.203874, y : 1.834862\n",
      "t: 0.305810, y : 2.599388\n",
      "t: 0.407747, y : 3.261978\n",
      "t: 0.509684, y : 3.822630\n",
      "t: 0.611621, y : 4.281346\n",
      "t: 0.713558, y : 4.638124\n",
      "t: 0.815494, y : 4.892966\n",
      "t: 0.917431, y : 5.045872\n",
      "t: 1.019368, y : 5.096840\n",
      "t: 1.121305, y : 5.045872\n",
      "t: 1.223242, y : 4.892966\n",
      "t: 1.325178, y : 4.638124\n",
      "t: 1.427115, y : 4.281346\n",
      "t: 1.529052, y : 3.822630\n",
      "t: 1.630989, y : 3.261978\n",
      "t: 1.732926, y : 2.599388\n",
      "t: 1.834862, y : 1.834862\n",
      "t: 1.936799, y : 0.968400\n",
      "t: 2.038736, y : 0.000000\n"
     ]
    }
   ],
   "source": [
    "v_0 = 10\n",
    "g = 9.81\n",
    "\n",
    "n = 20\n",
    "\n",
    "def y(t):\n",
    "    return v_0 * t - 0.5*g*t**2\n",
    "\n",
    "for i in [(2*v_0/g)/n*a for a in range(n+1)]:\n",
    "    print('t: {:f}, y : {:f}'.format(i, y(i)))"
   ]
  },
  {
   "cell_type": "markdown",
   "metadata": {},
   "source": [
    "2.9"
   ]
  },
  {
   "cell_type": "code",
   "execution_count": 9,
   "metadata": {},
   "outputs": [
    {
     "name": "stdout",
     "output_type": "stream",
     "text": [
      "t: 0.000000, y : 0.000000\n",
      "t: 0.407747, y : 7.339450\n",
      "t: 0.815494, y : 13.047910\n",
      "t: 1.223242, y : 17.125382\n",
      "t: 1.630989, y : 19.571865\n",
      "t: 2.038736, y : 20.387360\n",
      "t: 2.446483, y : 19.571865\n",
      "t: 2.854230, y : 17.125382\n",
      "t: 3.261978, y : 13.047910\n",
      "t: 3.669725, y : 7.339450\n",
      "t: 4.077472, y : 0.000000\n"
     ]
    }
   ],
   "source": [
    "v_0 = 20\n",
    "g = 9.81\n",
    "n = 10\n",
    "\n",
    "def y(t):\n",
    "    return v_0 * t - 0.5*g*t**2\n",
    "\n",
    "t = [(2*v_0/g)/n*i for i in range(n+1)]\n",
    "y = [y(i) for i in t]\n",
    "\n",
    "for t, y in zip(t, y):\n",
    "    print('t: {:f}, y : {:f}'.format(t, y))"
   ]
  },
  {
   "cell_type": "markdown",
   "metadata": {},
   "source": [
    "2.11"
   ]
  },
  {
   "cell_type": "code",
   "execution_count": 10,
   "metadata": {},
   "outputs": [
    {
     "name": "stdout",
     "output_type": "stream",
     "text": [
      "5.187377517639621\n"
     ]
    }
   ],
   "source": [
    "s = 0; k = 1; M = 100\n",
    "while k <= M:\n",
    "    s += 1/k\n",
    "    k += 1\n",
    "\n",
    "print(s)"
   ]
  },
  {
   "cell_type": "markdown",
   "metadata": {},
   "source": [
    "2.12"
   ]
  },
  {
   "cell_type": "code",
   "execution_count": 11,
   "metadata": {},
   "outputs": [
    {
     "name": "stdout",
     "output_type": "stream",
     "text": [
      "5.187377517639621\n"
     ]
    }
   ],
   "source": [
    "s = 0; k = 1; M = 100\n",
    "\n",
    "for i in range(k, M+1):\n",
    "    s += 1/i\n",
    "    \n",
    "print(s)"
   ]
  },
  {
   "cell_type": "markdown",
   "metadata": {},
   "source": [
    "2.13"
   ]
  },
  {
   "cell_type": "code",
   "execution_count": 12,
   "metadata": {},
   "outputs": [
    {
     "name": "stdout",
     "output_type": "stream",
     "text": [
      "9 155.13282159785152\n"
     ]
    }
   ],
   "source": [
    "initial_amount = 100\n",
    "p = 5\n",
    "\n",
    "amount = initial_amount\n",
    "years = 0\n",
    "while amount <= 1.5*initial_amount:\n",
    "    amount += p/100*amount\n",
    "    years += 1\n",
    "\n",
    "print(years, amount)"
   ]
  },
  {
   "cell_type": "markdown",
   "metadata": {},
   "source": [
    "2.14"
   ]
  },
  {
   "cell_type": "code",
   "execution_count": 13,
   "metadata": {},
   "outputs": [
    {
     "data": {
      "text/plain": "0.0"
     },
     "execution_count": 13,
     "metadata": {},
     "output_type": "execute_result"
    }
   ],
   "source": [
    "import math\n",
    "\n",
    "math.asin(0)"
   ]
  },
  {
   "cell_type": "markdown",
   "metadata": {},
   "source": [
    "2.15"
   ]
  },
  {
   "cell_type": "code",
   "execution_count": 14,
   "metadata": {},
   "outputs": [
    {
     "name": "stdout",
     "output_type": "stream",
     "text": [
      "a\n",
      "b\n",
      "c\n",
      "d\n",
      "e\n",
      "f\n",
      "g\n",
      "h\n"
     ]
    }
   ],
   "source": [
    "q = [['a', 'b', 'c'], ['d', 'e', 'f'], ['g', 'h']]\n",
    "\n",
    "for i in q:\n",
    "    for j in range(len(i)):\n",
    "        print(i[j])"
   ]
  },
  {
   "cell_type": "markdown",
   "metadata": {},
   "source": [
    "2.16"
   ]
  },
  {
   "cell_type": "code",
   "execution_count": 15,
   "metadata": {},
   "outputs": [
    {
     "name": "stdout",
     "output_type": "stream",
     "text": [
      "0 -18 -15\n",
      "10 -12 -10\n",
      "20 -7 -5\n",
      "30 -1 0\n",
      "40 4 5\n",
      "50 10 10\n",
      "60 16 15\n",
      "70 21 20\n",
      "80 27 25\n",
      "90 32 30\n",
      "100 38 35\n"
     ]
    }
   ],
   "source": [
    "F = [f for f in range(0, 110, 10)]\n",
    "C = [round(5/9*(f - 32)) for f in F]\n",
    "C_ap = [round(0.5*(f - 30)) for f in F]\n",
    "\n",
    "conversions = [F, C, C_ap]\n",
    "\n",
    "for i in range(len(F)):\n",
    "    print(F[i], C[i], C_ap[i])"
   ]
  },
  {
   "cell_type": "markdown",
   "metadata": {},
   "source": [
    "2.17"
   ]
  },
  {
   "cell_type": "code",
   "execution_count": 16,
   "metadata": {},
   "outputs": [
    {
     "name": "stdout",
     "output_type": "stream",
     "text": [
      "t: 0.00, y: 0.00\n",
      "t: 0.41, y: 7.34\n",
      "t: 0.82, y: 13.05\n",
      "t: 1.22, y: 17.13\n",
      "t: 1.63, y: 19.57\n",
      "t: 2.04, y: 20.39\n",
      "t: 2.45, y: 19.57\n",
      "t: 2.85, y: 17.13\n",
      "t: 3.26, y: 13.05\n",
      "t: 3.67, y: 7.34\n",
      "t: 4.08, y: 0.00\n",
      "\n",
      "\n",
      "t: 0.00, y : 0.00\n",
      "t: 0.41, y : 7.34\n",
      "t: 0.82, y : 13.05\n",
      "t: 1.22, y : 17.13\n",
      "t: 1.63, y : 19.57\n",
      "t: 2.04, y : 20.39\n",
      "t: 2.45, y : 19.57\n",
      "t: 2.85, y : 17.13\n",
      "t: 3.26, y : 13.05\n",
      "t: 3.67, y : 7.34\n",
      "t: 4.08, y : 0.00\n"
     ]
    }
   ],
   "source": [
    "v_0 = 20\n",
    "g = 9.81\n",
    "n = 10\n",
    "\n",
    "def y(t):\n",
    "    return v_0 * t - 0.5*g*t**2\n",
    "\n",
    "t = [(2*v_0/g)/n*i for i in range(n+1)]\n",
    "y = [y(i) for i in t]\n",
    "\n",
    "ty1 = [t, y]\n",
    "ty2 = [[ty1[0][i], ty1[1][i]] for i in range(len(t))]\n",
    "\n",
    "for i in ty2:\n",
    "    print('t: {:.2f}, y: {:.2f}'.format(i[0], i[1]))\n",
    "\n",
    "print('\\n')\n",
    "for i in range(len(t)):\n",
    "    print('t: {:.2f}, y : {:.2f}'.format(ty1[0][i], ty1[1][i]))"
   ]
  },
  {
   "cell_type": "markdown",
   "metadata": {},
   "source": [
    "2.18"
   ]
  },
  {
   "cell_type": "code",
   "execution_count": 17,
   "metadata": {},
   "outputs": [
    {
     "data": {
      "text/plain": "True"
     },
     "execution_count": 17,
     "metadata": {},
     "output_type": "execute_result"
    }
   ],
   "source": [
    "C = 41\n",
    "True == 1"
   ]
  },
  {
   "cell_type": "markdown",
   "metadata": {},
   "source": [
    "2.19"
   ]
  },
  {
   "cell_type": "code",
   "execution_count": 18,
   "metadata": {},
   "outputs": [
    {
     "name": "stdout",
     "output_type": "stream",
     "text": [
      "51 times sqrt and **2: 1.6487212645509468\n"
     ]
    }
   ],
   "source": [
    "from math import sqrt\n",
    "\n",
    "for n in range(1, 52):\n",
    "    r = 2.0\n",
    "    for i in range(n):\n",
    "        r = sqrt(r)\n",
    "    for i in range(n):\n",
    "        r = r**2\n",
    "\n",
    "print('{:} times sqrt and **2: {:.16f}'.format(n, r))"
   ]
  },
  {
   "cell_type": "markdown",
   "metadata": {},
   "source": [
    "2.22"
   ]
  },
  {
   "cell_type": "code",
   "execution_count": 19,
   "metadata": {},
   "outputs": [
    {
     "name": "stdout",
     "output_type": "stream",
     "text": [
      "I love while loops\n",
      "I love while loops\n",
      "I love while loops\n",
      "I love while loops\n",
      "I love while loops\n",
      "Oh, it's over\n"
     ]
    }
   ],
   "source": [
    "import time\n",
    "\n",
    "t0 = time.time()\n",
    "while time.time() - t0 < 10:\n",
    "    print(\"I love while loops\")\n",
    "    time.sleep(2)\n",
    "\n",
    "print(\"Oh, it's over\")"
   ]
  },
  {
   "cell_type": "markdown",
   "metadata": {},
   "source": [
    "2.24"
   ]
  },
  {
   "cell_type": "code",
   "execution_count": 20,
   "metadata": {},
   "outputs": [
    {
     "name": "stdout",
     "output_type": "stream",
     "text": [
      "3.0\n"
     ]
    }
   ],
   "source": [
    "x = 1,\n",
    "x = 2\n",
    "x = 3.\n",
    "\n",
    "print(x)"
   ]
  }
 ],
 "metadata": {
  "kernelspec": {
   "name": "python3",
   "language": "python",
   "display_name": "Python 3"
  },
  "language_info": {
   "codemirror_mode": {
    "name": "ipython",
    "version": 3
   },
   "file_extension": ".py",
   "mimetype": "text/x-python",
   "name": "python",
   "nbconvert_exporter": "python",
   "pygments_lexer": "ipython3",
   "version": "3.7.6"
  }
 },
 "nbformat": 4,
 "nbformat_minor": 4
}