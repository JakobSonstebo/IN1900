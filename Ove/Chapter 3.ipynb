{
 "cells": [
  {
   "cell_type": "markdown",
   "metadata": {},
   "source": [
    "# 3.1"
   ]
  },
  {
   "cell_type": "code",
   "execution_count": 16,
   "metadata": {},
   "outputs": [
    {
     "name": "stdout",
     "output_type": "stream",
     "text": [
      "0.0 0.6065306597126334\n"
     ]
    }
   ],
   "source": [
    "\n",
    "def g(t):\n",
    "    return math.exp(-t)*math.sin(math.pi*t)\n",
    "\n",
    "print(g(0), g(1/2))"
   ]
  },
  {
   "cell_type": "markdown",
   "metadata": {},
   "source": [
    "# 3.2"
   ]
  },
  {
   "cell_type": "code",
   "execution_count": 17,
   "metadata": {},
   "outputs": [
    {
     "name": "stdout",
     "output_type": "stream",
     "text": [
      "0.0 0.006737946999085467\n"
     ]
    }
   ],
   "source": [
    "import math\n",
    "\n",
    "def g(t, a):\n",
    "    return math.exp(-a*t)*math.sin(math.pi*t)\n",
    "\n",
    "print(g(0, 10), g(1/2, 10))"
   ]
  },
  {
   "cell_type": "markdown",
   "metadata": {},
   "source": [
    "# 3.3"
   ]
  },
  {
   "cell_type": "code",
   "execution_count": 18,
   "metadata": {},
   "outputs": [
    {
     "name": "stdout",
     "output_type": "stream",
     "text": [
      "27\n"
     ]
    }
   ],
   "source": [
    "def add(a, b):\n",
    "    return a + b\n",
    "\n",
    "tall1 = 3\n",
    "tall2 = 2\n",
    "\n",
    "print(add(2*tall1, tall2+1)*3)"
   ]
  },
  {
   "cell_type": "markdown",
   "metadata": {},
   "source": [
    "# 3.4"
   ]
  },
  {
   "cell_type": "code",
   "execution_count": 19,
   "metadata": {},
   "outputs": [
    {
     "name": "stdout",
     "output_type": "stream",
     "text": [
      "23.8\n"
     ]
    }
   ],
   "source": [
    "def ce(f):\n",
    "    return 5/9*(f-32)\n",
    "\n",
    "def fa(c):\n",
    "    return 9/5*(c + 32)\n",
    "\n",
    "print(fa(ce(0)))"
   ]
  },
  {
   "cell_type": "markdown",
   "metadata": {},
   "source": [
    "# 3.5"
   ]
  },
  {
   "cell_type": "code",
   "execution_count": 20,
   "metadata": {},
   "outputs": [
    {
     "ename": "AssertionError",
     "evalue": "The functions are not inverses",
     "output_type": "error",
     "traceback": [
      "\u001B[1;31m---------------------------------------------------------------------------\u001B[0m",
      "\u001B[1;31mAssertionError\u001B[0m                            Traceback (most recent call last)",
      "\u001B[1;32m<ipython-input-20-36794fff23fb>\u001B[0m in \u001B[0;36m<module>\u001B[1;34m\u001B[0m\n\u001B[0;32m      6\u001B[0m     \u001B[1;32massert\u001B[0m \u001B[0msuccess\u001B[0m\u001B[1;33m,\u001B[0m \u001B[0mmsg\u001B[0m\u001B[1;33m\u001B[0m\u001B[1;33m\u001B[0m\u001B[0m\n\u001B[0;32m      7\u001B[0m \u001B[1;33m\u001B[0m\u001B[0m\n\u001B[1;32m----> 8\u001B[1;33m \u001B[0mprint\u001B[0m\u001B[1;33m(\u001B[0m\u001B[0mtest_F_C\u001B[0m\u001B[1;33m(\u001B[0m\u001B[1;36m0\u001B[0m\u001B[1;33m)\u001B[0m\u001B[1;33m)\u001B[0m\u001B[1;33m\u001B[0m\u001B[1;33m\u001B[0m\u001B[0m\n\u001B[0m\u001B[0;32m      9\u001B[0m \u001B[1;33m\u001B[0m\u001B[0m\n",
      "\u001B[1;32m<ipython-input-20-36794fff23fb>\u001B[0m in \u001B[0;36mtest_F_C\u001B[1;34m(T, epsilon)\u001B[0m\n\u001B[0;32m      4\u001B[0m     \u001B[0msuccess\u001B[0m \u001B[1;33m=\u001B[0m \u001B[0mabs\u001B[0m\u001B[1;33m(\u001B[0m\u001B[0mC_F\u001B[0m \u001B[1;33m-\u001B[0m \u001B[0mF_C\u001B[0m\u001B[1;33m)\u001B[0m \u001B[1;33m<\u001B[0m \u001B[0mepsilon\u001B[0m\u001B[1;33m\u001B[0m\u001B[1;33m\u001B[0m\u001B[0m\n\u001B[0;32m      5\u001B[0m     \u001B[0mmsg\u001B[0m \u001B[1;33m=\u001B[0m \u001B[1;34m'The functions are not inverses'\u001B[0m\u001B[1;33m\u001B[0m\u001B[1;33m\u001B[0m\u001B[0m\n\u001B[1;32m----> 6\u001B[1;33m     \u001B[1;32massert\u001B[0m \u001B[0msuccess\u001B[0m\u001B[1;33m,\u001B[0m \u001B[0mmsg\u001B[0m\u001B[1;33m\u001B[0m\u001B[1;33m\u001B[0m\u001B[0m\n\u001B[0m\u001B[0;32m      7\u001B[0m \u001B[1;33m\u001B[0m\u001B[0m\n\u001B[0;32m      8\u001B[0m \u001B[0mprint\u001B[0m\u001B[1;33m(\u001B[0m\u001B[0mtest_F_C\u001B[0m\u001B[1;33m(\u001B[0m\u001B[1;36m0\u001B[0m\u001B[1;33m)\u001B[0m\u001B[1;33m)\u001B[0m\u001B[1;33m\u001B[0m\u001B[1;33m\u001B[0m\u001B[0m\n",
      "\u001B[1;31mAssertionError\u001B[0m: The functions are not inverses"
     ]
    }
   ],
   "source": [
    "def test_f_c(t, epsilon = 1e-10):\n",
    "    c_f = ce(fa(t))\n",
    "    f_c = fa(ce(t))\n",
    "    success = abs(c_f - f_c) < epsilon\n",
    "    msg = 'The functions are not inverses'\n",
    "    assert success, msg\n",
    "    \n",
    "print(test_f_c(0))"
   ]
  },
  {
   "cell_type": "markdown",
   "metadata": {},
   "source": [
    "# 3.6"
   ]
  },
  {
   "cell_type": "code",
   "execution_count": null,
   "metadata": {},
   "outputs": [],
   "source": [
    "def double(n):\n",
    "    return 2*n\n",
    "\n",
    "def test_double():\n",
    "    assert double(2) == 4, 'Numbers'\n",
    "    assert abs(double(0.1) - 0.2) < 1e-15, 'Floating'\n",
    "    assert double((1, 2)) == (1, 2, 1, 2), 'Tuples'\n",
    "    assert double(3+4j) == 6+8j, 'Complex'\n",
    "    assert double(\"hello\") == \"hellohello\", 'Strings'\n",
    "    \n",
    "test_double()"
   ]
  },
  {
   "cell_type": "markdown",
   "metadata": {},
   "source": [
    "# 3.7"
   ]
  },
  {
   "cell_type": "code",
   "execution_count": null,
   "metadata": {},
   "outputs": [],
   "source": [
    "def sum_1k(m):\n",
    "    s = 0\n",
    "    for k in range(1, m + 1):\n",
    "        s += 1/k\n",
    "    return s\n",
    "\n",
    "def test_sum_1k():\n",
    "    exact = 1 + 1/2 + 1/3\n",
    "    func = sum_1k(3)\n",
    "    success = abs(exact-func) < 1e-15\n",
    "    assert success, 'Function does not compute correct sum'\n",
    "    \n",
    "test_sum_1k()"
   ]
  },
  {
   "cell_type": "markdown",
   "metadata": {},
   "source": [
    "# 3.8"
   ]
  },
  {
   "cell_type": "code",
   "execution_count": null,
   "metadata": {},
   "outputs": [],
   "source": [
    "from numpy import sqrt\n",
    "\n",
    "def roots(a, b, c):\n",
    "    r1 = (-b - sqrt(b*b - 4*a*c))/(2*a)\n",
    "    r2 = (-b - sqrt(b*b - 4*a*c))/(2*a)\n",
    "    return r1, r2\n",
    "\n",
    "def test_roots_real():\n",
    "    exact = [2]\n",
    "    func = roots(1, - 4, 4)\n",
    "    \n",
    "    success = True\n",
    "    for i in range(len(func)):\n",
    "        if func[i] not in exact:\n",
    "            success = False\n",
    "    \n",
    "    assert success\n",
    "\n",
    "test_roots_real()"
   ]
  },
  {
   "cell_type": "markdown",
   "metadata": {},
   "source": [
    "# 3.9"
   ]
  },
  {
   "cell_type": "code",
   "execution_count": null,
   "metadata": {},
   "outputs": [],
   "source": [
    "def summer(l):\n",
    "    s = 0\n",
    "    for i in l:\n",
    "        s += i\n",
    "    return s\n",
    "\n",
    "summer((1, 2, 3, 4))"
   ]
  },
  {
   "cell_type": "markdown",
   "metadata": {},
   "source": [
    "# 3.10"
   ]
  },
  {
   "cell_type": "code",
   "execution_count": null,
   "metadata": {},
   "outputs": [],
   "source": [
    "def poly(x, root):\n",
    "    p = 1\n",
    "    for i in root:\n",
    "        p *= (x - i)\n",
    "    return p\n",
    "\n",
    "def test_poly():\n",
    "    p_exact = lambda x: x**2 + 2*x + 5\n",
    "    p1 = p_exact(1)\n",
    "    p2 = poly(1, roots(1, 2, 5))\n",
    "    success = abs(p1 - p2) < 1e-14\n",
    "    assert success\n",
    "\n",
    "test_poly()"
   ]
  },
  {
   "cell_type": "markdown",
   "metadata": {},
   "source": [
    "# 3.11"
   ]
  },
  {
   "cell_type": "code",
   "execution_count": 2,
   "metadata": {},
   "outputs": [
    {
     "data": {
      "text/plain": "0.5"
     },
     "execution_count": 2,
     "metadata": {},
     "output_type": "execute_result"
    }
   ],
   "source": [
    "def trapezint1(f, a, b):\n",
    "    return (b-a)/2*(f(a)+f(b))\n",
    "\n",
    "trapezint1(lambda x: x, 0, 1)"
   ]
  },
  {
   "cell_type": "code",
   "execution_count": 3,
   "metadata": {},
   "outputs": [
    {
     "name": "stdout",
     "output_type": "stream",
     "text": [
      "-0.21460183660255172\n"
     ]
    }
   ],
   "source": [
    "from math import *\n",
    "\n",
    "error1 = trapezint1(lambda x: cos(x), 0, pi) - sin(pi)\n",
    "error2 = trapezint1(lambda x: sin(x), 0, pi/2) - (cos(0))\n",
    "print(error2)"
   ]
  },
  {
   "cell_type": "code",
   "execution_count": 4,
   "metadata": {},
   "outputs": [
    {
     "data": {
      "text/plain": "-0.0519405510314801"
     },
     "execution_count": 4,
     "metadata": {},
     "output_type": "execute_result"
    }
   ],
   "source": [
    "def trapezint2(f, a, b):\n",
    "    x_1 = (b/2-a)/2*(f(a)+f(b/2))\n",
    "    x_2 = (b-b/2)/2*(f(b)+f(b/2))\n",
    "    return x_1 + x_2\n",
    "\n",
    "error3 = trapezint2(lambda x: sin(x), 0, pi/2) - (cos(0))\n",
    "error3"
   ]
  },
  {
   "cell_type": "code",
   "execution_count": null,
   "outputs": [],
   "source": [],
   "metadata": {
    "collapsed": false,
    "pycharm": {
     "name": "#%%\n"
    }
   }
  }
 ],
 "metadata": {
  "kernelspec": {
   "name": "python3",
   "language": "python",
   "display_name": "Python 3"
  },
  "language_info": {
   "codemirror_mode": {
    "name": "ipython",
    "version": 3
   },
   "file_extension": ".py",
   "mimetype": "text/x-python",
   "name": "python",
   "nbconvert_exporter": "python",
   "pygments_lexer": "ipython3",
   "version": "3.7.6"
  }
 },
 "nbformat": 4,
 "nbformat_minor": 4
}